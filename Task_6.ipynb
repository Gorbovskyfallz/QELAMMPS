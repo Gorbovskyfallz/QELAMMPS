{
 "cells": [
  {
   "attachments": {},
   "cell_type": "markdown",
   "metadata": {},
   "source": [
    "При абсолютных энергиях требования к отсечке, в целом, ниже, чем для сил на атоме при достижении той же сходимости.\n",
    "Расчет сходимости различий по энергии сходится при чуть большей энергии отсечения, нежели сходимость по силам\n",
    "Для сходимости сил на атоме требуется более мелка сетка (кол-во к-точек), нежели при расчете сходимости энергий"
   ]
  }
 ],
 "metadata": {
  "kernelspec": {
   "display_name": "Python 3",
   "language": "python",
   "name": "python3"
  },
  "language_info": {
   "codemirror_mode": {
    "name": "ipython",
    "version": 3
   },
   "file_extension": ".py",
   "mimetype": "text/x-python",
   "name": "python",
   "nbconvert_exporter": "python",
   "pygments_lexer": "ipython3",
   "version": "3.7.5"
  }
 },
 "nbformat": 4,
 "nbformat_minor": 2
}
